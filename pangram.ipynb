{
 "cells": [
  {
   "cell_type": "code",
   "execution_count": 1,
   "id": "322a4dab",
   "metadata": {},
   "outputs": [
    {
     "name": "stdout",
     "output_type": "stream",
     "text": [
      "Enter a sentence: abcdefghijklmnopqrstuvwxyz\n",
      "The input is a pangram.\n"
     ]
    }
   ],
   "source": [
    "import string\n",
    "\n",
    "def is_pangram(sentence):\n",
    "    # Convert the sentence to lowercase\n",
    "    sentence = sentence.lower()\n",
    "    # Remove non-alphabetic characters from the sentence\n",
    "    sentence = ''.join(char for char in sentence if char.isalpha())\n",
    "    # Create a set of unique characters in the sentence\n",
    "    unique_chars = set(sentence)\n",
    "    # Check if the set of unique characters contains all alphabet characters\n",
    "    return set(string.ascii_lowercase).issubset(unique_chars)\n",
    "\n",
    "# Take input from the user\n",
    "user_input = input(\"Enter a sentence: \")\n",
    "\n",
    "# Check if the input is a pangram\n",
    "if is_pangram(user_input):\n",
    "    print(\"The input is a pangram.\")\n",
    "else:\n",
    "    print(\"The input is not a pangram.\")\n"
   ]
  },
  {
   "cell_type": "code",
   "execution_count": null,
   "id": "13cb366e",
   "metadata": {},
   "outputs": [],
   "source": []
  }
 ],
 "metadata": {
  "kernelspec": {
   "display_name": "Python 3 (ipykernel)",
   "language": "python",
   "name": "python3"
  },
  "language_info": {
   "codemirror_mode": {
    "name": "ipython",
    "version": 3
   },
   "file_extension": ".py",
   "mimetype": "text/x-python",
   "name": "python",
   "nbconvert_exporter": "python",
   "pygments_lexer": "ipython3",
   "version": "3.10.9"
  }
 },
 "nbformat": 4,
 "nbformat_minor": 5
}
