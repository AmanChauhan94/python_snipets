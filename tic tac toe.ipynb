{
 "cells": [
  {
   "cell_type": "code",
   "execution_count": 54,
   "id": "1b5da5f9",
   "metadata": {},
   "outputs": [],
   "source": [
    "def display_board(board):\n",
    "    print(board[7]+\" | \"+board[8]+\" | \"+board[9])\n",
    "    print(board[4]+\" | \"+board[5]+\" | \"+board[6])\n",
    "    print(board[1]+\" | \"+board[2]+\" | \"+board[3])"
   ]
  },
  {
   "cell_type": "code",
   "execution_count": 55,
   "id": "34e1fcfc",
   "metadata": {},
   "outputs": [],
   "source": [
    "def inpoot_fun():\n",
    "    marker = ''\n",
    "    while not (marker=='X' or marker=='O'):\n",
    "        marker=input(\"Please choose X or O \").upper()\n",
    "    if marker=='X':\n",
    "        return \"X\"\n",
    "    if marker=='O':\n",
    "        return \"O\"\n",
    "    "
   ]
  },
  {
   "cell_type": "code",
   "execution_count": 56,
   "id": "004d2561",
   "metadata": {},
   "outputs": [],
   "source": [
    "import random\n",
    "\n",
    "def choose_first():\n",
    "    if random.randint(0, 1) == 0:\n",
    "        return 'Player 2'\n",
    "    else:\n",
    "        return 'Player 1'"
   ]
  },
  {
   "cell_type": "code",
   "execution_count": 57,
   "id": "30e5a163",
   "metadata": {},
   "outputs": [],
   "source": [
    "def position():\n",
    "    i = False\n",
    "    while i==False:\n",
    "        inp=int(input('Please select an index from range '))\n",
    "        \n",
    "        \n",
    "        if inp not in range(1,10):\n",
    "            print(\"Selection incorrect\")\n",
    "            \n",
    "        if inp in range(1,10):\n",
    "            return inp        "
   ]
  },
  {
   "cell_type": "code",
   "execution_count": 58,
   "id": "b5d1f359",
   "metadata": {},
   "outputs": [],
   "source": [
    "board = ['','','','','','','','','','']\n",
    "\n",
    "def place_marker(board,inpoot_fun,position):\n",
    "    display_board(board)\n",
    "    marker=inpoot_fun()\n",
    "    place=position()\n",
    "    board[place] = marker\n",
    "    display_board(board)\n",
    "        "
   ]
  },
  {
   "cell_type": "code",
   "execution_count": 59,
   "id": "7172e578",
   "metadata": {},
   "outputs": [
    {
     "name": "stdout",
     "output_type": "stream",
     "text": [
      " |  | \n",
      " |  | \n",
      " |  | \n",
      "Please choose X or O x\n",
      "Please select an index from range 1\n",
      " |  | \n",
      " |  | \n",
      "X |  | \n"
     ]
    }
   ],
   "source": [
    "place_marker(board,inpoot_fun,position)"
   ]
  },
  {
   "cell_type": "code",
   "execution_count": null,
   "id": "85b71656",
   "metadata": {
    "collapsed": true
   },
   "outputs": [],
   "source": []
  }
 ],
 "metadata": {
  "kernelspec": {
   "display_name": "Python 3 (ipykernel)",
   "language": "python",
   "name": "python3"
  },
  "language_info": {
   "codemirror_mode": {
    "name": "ipython",
    "version": 3
   },
   "file_extension": ".py",
   "mimetype": "text/x-python",
   "name": "python",
   "nbconvert_exporter": "python",
   "pygments_lexer": "ipython3",
   "version": "3.10.9"
  }
 },
 "nbformat": 4,
 "nbformat_minor": 5
}
